{
 "cells": [
  {
   "cell_type": "code",
   "execution_count": null,
   "id": "2b4ba2e4",
   "metadata": {},
   "outputs": [],
   "source": [
    "import pandas as pd\n",
    "from rfphate import RFPHATE\n",
    "from phate import PHATE\n",
    "import matplotlib.pyplot as plt\n",
    "import seaborn as sns\n",
    "import numpy as np\n",
    "import umap\n",
    "import sys\n",
    "sys.path.append('../..')"
   ]
  },
  {
   "cell_type": "code",
   "execution_count": null,
   "id": "88d45aae",
   "metadata": {},
   "outputs": [],
   "source": [
    "X = pd.read_csv('../data/rnaseq/data.csv')\n",
    "y = pd.read_csv('../data/rnaseq/labels.csv', dtype={\"Class\": \"category\"})"
   ]
  },
  {
   "cell_type": "code",
   "execution_count": null,
   "id": "dfaa4cf5",
   "metadata": {},
   "outputs": [],
   "source": [
    "dropout_rates = [0, 25, 50, 75]\n",
    "n_rows, n_cols = X.shape\n",
    "\n",
    "for rate in dropout_rates:\n",
    "    X_dropout = X.copy()\n",
    "    if rate > 0:\n",
    "        mask = np.random.rand(n_rows, n_cols) < (rate / 100)\n",
    "        X_dropout = X_dropout.to_numpy().copy()\n",
    "        X_dropout[mask] = 0\n",
    "    globals()[f'X_{rate:02d}'] = X_dropout\n"
   ]
  },
  {
   "cell_type": "code",
   "execution_count": null,
   "id": "d4d97425",
   "metadata": {},
   "outputs": [],
   "source": [
    "oob_scores = []\n",
    "fig, axes = plt.subplots(\n",
    "    3, 4, figsize=(24, 18),\n",
    "    gridspec_kw={'hspace': 0, 'wspace': 0}  # remove vertical space\n",
    ")\n",
    "axes = axes.reshape(3, 4)\n",
    "\n",
    "# First row: RF-PHATE\n",
    "for idx, rate in enumerate(dropout_rates):\n",
    "    rfphate_op = RFPHATE(prediction_type='classification', random_state=42, oob_score=True)\n",
    "    rfphate_op.fit(globals()[f'X_{rate:02d}'], y)\n",
    "    emb = rfphate_op.transform(globals()[f'X_{rate:02d}'])\n",
    "    oob_scores.append(rfphate_op.oob_score_)\n",
    "    ax = axes[0, idx]\n",
    "    sns.scatterplot(\n",
    "        x=emb[:, 0], y=emb[:, 1], hue=y['Class'],\n",
    "        palette='Paired', s=50, ax=ax, edgecolor=None,\n",
    "        legend=(idx == 0)\n",
    "    )\n",
    "    ax.set_title(f'OOB: {rfphate_op.oob_score_:.3f}', fontsize = 20)\n",
    "    ax.set_xlabel('')\n",
    "    ax.set_ylabel('')\n",
    "    ax.set_xticks([])\n",
    "    ax.set_yticks([])\n",
    "# y-axis label for row\n",
    "axes[0, 0].set_ylabel(\"RF-PHATE\", fontsize=20)\n",
    "\n",
    "# Second row: PHATE\n",
    "for idx, rate in enumerate(dropout_rates):\n",
    "    phate_op = PHATE(random_state=42)\n",
    "    phate_op.fit(globals()[f'X_{rate:02d}'])\n",
    "    emb = phate_op.transform(globals()[f'X_{rate:02d}'])\n",
    "    ax = axes[1, idx]\n",
    "    sns.scatterplot(\n",
    "        x=emb[:, 0], y=emb[:, 1], hue=y['Class'],\n",
    "        palette='Paired', s=50, ax=ax, legend=False, edgecolor=None\n",
    "    )\n",
    "    # ax.set_title(f'{rate}% Dropout')\n",
    "    ax.set_xlabel('')\n",
    "    ax.set_ylabel('')\n",
    "    ax.set_xticks([])\n",
    "    ax.set_yticks([])\n",
    "axes[1, 0].set_ylabel(\"PHATE\", fontsize=20)\n",
    "\n",
    "# Third row: UMAP\n",
    "for idx, rate in enumerate(dropout_rates):\n",
    "    umap_op = umap.UMAP(random_state=42)\n",
    "    emb = umap_op.fit_transform(globals()[f'X_{rate:02d}'])\n",
    "    ax = axes[2, idx]\n",
    "    sns.scatterplot(\n",
    "        x=emb[:, 0], y=emb[:, 1], hue=y['Class'],\n",
    "        palette='Paired', s=50, ax=ax, legend=False, edgecolor=None\n",
    "    )\n",
    "    # ax.set_title(f'{rate}% Dropout')\n",
    "    ax.set_xlabel(f'{rate}% Dropout', fontsize = 20)  # put dropout rate as x-axis label\n",
    "    ax.set_ylabel('')\n",
    "    ax.set_xticks([])\n",
    "    ax.set_yticks([])\n",
    "axes[2, 0].set_ylabel(\"UMAP\", fontsize=20)\n",
    "\n",
    "# Add one shared x-axis label\n",
    "# fig.text(0.5, 0.04, \"Dropout Rate (%)\", ha=\"center\", fontsize=18)\n",
    "\n",
    "plt.tight_layout(pad=0.0)  # fully collapse spacing\n",
    "plt.savefig('rnaseq-vis.pdf', bbox_inches=\"tight\")\n",
    "plt.show()\n"
   ]
  }
 ],
 "metadata": {
  "kernelspec": {
   "display_name": "rfphate-quant",
   "language": "python",
   "name": "python3"
  },
  "language_info": {
   "codemirror_mode": {
    "name": "ipython",
    "version": 3
   },
   "file_extension": ".py",
   "mimetype": "text/x-python",
   "name": "python",
   "nbconvert_exporter": "python",
   "pygments_lexer": "ipython3",
   "version": "3.10.16"
  }
 },
 "nbformat": 4,
 "nbformat_minor": 5
}
