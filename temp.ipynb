{
 "cells": [
  {
   "cell_type": "code",
   "execution_count": 2,
   "metadata": {},
   "outputs": [],
   "source": [
    "import rfphate"
   ]
  },
  {
   "cell_type": "code",
   "execution_count": 3,
   "metadata": {},
   "outputs": [],
   "source": [
    "path = 'data/'\n",
    "dataset_name = 'iris'\n",
    "data = pd.read_csv(path + dataset_name + '.csv', sep = ',')\n",
    "x, y = rfphate.dataprep(data)"
   ]
  },
  {
   "cell_type": "code",
   "execution_count": 4,
   "metadata": {},
   "outputs": [],
   "source": [
    "embedding = rfphate.RFPHATE().fit_transform(x, y)"
   ]
  },
  {
   "cell_type": "code",
   "execution_count": null,
   "metadata": {},
   "outputs": [],
   "source": [
    "results = rfphate.model_embedding_diff(x, y, embedding)"
   ]
  },
  {
   "cell_type": "code",
   "execution_count": 6,
   "metadata": {},
   "outputs": [
    {
     "data": {
      "text/plain": [
       "{'knndiff': 0.014000000000000012,\n",
       " 'rfdiff': 0.02733333333333332,\n",
       " 'knn_scores_x': 0.9573333333333334,\n",
       " 'knn_scores_emb': 0.9713333333333334,\n",
       " 'rf_scores_x': 0.9526666666666667,\n",
       " 'rf_scores_emb': 0.98}"
      ]
     },
     "execution_count": 6,
     "metadata": {},
     "output_type": "execute_result"
    }
   ],
   "source": [
    "results"
   ]
  },
  {
   "cell_type": "code",
   "execution_count": 13,
   "metadata": {},
   "outputs": [],
   "source": [
    "from rfphate import global_structure_preservation"
   ]
  },
  {
   "cell_type": "code",
   "execution_count": 9,
   "metadata": {},
   "outputs": [
    {
     "name": "stdout",
     "output_type": "stream",
     "text": [
      "Help on function local_structure_preservation in module rfphate.metrics.LSP:\n",
      "\n",
      "local_structure_preservation(x, y, embedding, model=None, emb_model=None, n_repeats=10, n_neighbors=10, n_jobs=1, type='spearman', prediction_type='classification', random_state=None, keep_scores=False, x_val=None, y_val=None, **kwargs)\n",
      "    This function calculates the correlation between the feature importances in the data's classification /\n",
      "    regression problem and the feature importance in determining the embedding.\n",
      "    \n",
      "    Parameters\n",
      "    ----------\n",
      "    x : numpy array, default: None\n",
      "        An (n, d) data matrix.\n",
      "    \n",
      "    y : numpy array, default: None\n",
      "        A (n, 1) array of data labels.\n",
      "    \n",
      "    embedding : numpy array or dictionary\n",
      "        If numpy array: an (n, p) embedding of the data.\n",
      "        If dictionary: keys are identifiers for different embeddings, and values are corresponding embedding arrays.\n",
      "    \n",
      "    model : an sklearn model, default: KNeighborsClassifier or KNeighbors Regressor\n",
      "        Model to fit to the dataset.\n",
      "    \n",
      "    emb_model : an sklearn model, default: KNeighborsRegressor\n",
      "        Model to fit to the embedding.\n",
      "    \n",
      "    prediction_type : string, default: 'classification'\n",
      "        Needed to determine classification or regression type.\n",
      "        Options are 'classification' or 'regression'.\n",
      "    \n",
      "    type: string, default: 'pearson'\n",
      "        Designation of whether Spearman or Pearson correlation should be used.\n",
      "        Please choose 'spearman' or 'pearson'.\n",
      "    \n",
      "    n_repeats : int, default: 30\n",
      "        The number of repetitions used in the permutation importance.\n",
      "    \n",
      "    random_state : int, optional, default: None\n",
      "        Random seed for generator used in generating permutation importance.\n",
      "    \n",
      "    keep_scores : bool, optional, default: False\n",
      "        If true, the model and embedding model validation scores will be saved in addition to the correlations.\n",
      "        Returned values are in a dictionary. Requires x_val and y_val.\n",
      "    \n",
      "    n_jobs : int, optional, default: 1\n",
      "        The number of jobs to use for the computation.\n",
      "        If -1, all CPUs are used. If 1 is given, no parallel computing code is\n",
      "        used at all, which is useful for debugging.\n",
      "        For n_jobs below -1, (n_cpus + 1 + n_jobs) are used. Thus for\n",
      "        n_jobs = -2, all CPUs but one are used.\n",
      "    \n",
      "    x_val : numpy array, optional, default: None\n",
      "        Validation data for the model.\n",
      "    \n",
      "    y_val : numpy array, optional, default: None\n",
      "        Validation labels for the model.\n",
      "    \n",
      "    Returns\n",
      "    -------\n",
      "    correlation : numeric or dictionary\n",
      "        If embedding is a numpy array, returns the mean Spearman or Pearson correlation between\n",
      "        the embedding feature importance and the prediction feature importance along with the standard deviation.\n",
      "        If embedding is a dictionary, returns a dictionary where keys are identifiers for different embeddings,\n",
      "        and values are tuples containing mean and standard deviation of the correlation for each embedding.\n",
      "\n"
     ]
    }
   ],
   "source": [
    "help(local_structure_preservation)"
   ]
  },
  {
   "cell_type": "code",
   "execution_count": 14,
   "metadata": {},
   "outputs": [
    {
     "data": {
      "text/plain": [
       "(0.8846049894151541, 0.08645237244757972)"
      ]
     },
     "execution_count": 14,
     "metadata": {},
     "output_type": "execute_result"
    }
   ],
   "source": [
    "global_structure_preservation(x, y, embedding)"
   ]
  }
 ],
 "metadata": {
  "kernelspec": {
   "display_name": "rfphate-quant",
   "language": "python",
   "name": "python3"
  },
  "language_info": {
   "codemirror_mode": {
    "name": "ipython",
    "version": 3
   },
   "file_extension": ".py",
   "mimetype": "text/x-python",
   "name": "python",
   "nbconvert_exporter": "python",
   "pygments_lexer": "ipython3",
   "version": "3.10.16"
  }
 },
 "nbformat": 4,
 "nbformat_minor": 2
}
